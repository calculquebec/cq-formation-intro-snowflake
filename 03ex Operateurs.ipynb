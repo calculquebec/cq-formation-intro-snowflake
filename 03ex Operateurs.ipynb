{
 "cells": [
  {
   "cell_type": "markdown",
   "id": "17dd3257-00b1-4c37-bad7-44c738f9846c",
   "metadata": {},
   "source": [
    "# Exercises sur les opérateurs"
   ]
  },
  {
   "cell_type": "markdown",
   "id": "3f20ad04-25c2-43be-845a-ff875ad49f4c",
   "metadata": {},
   "source": [
    "## Opérateurs à un qubit"
   ]
  },
  {
   "cell_type": "markdown",
   "id": "ac9c787d-e666-407b-8d6f-39735b1feeb8",
   "metadata": {},
   "source": [
    "**Pour 2 qubits, quel est la matrice 4x4 d'un opérateur M=[0.2 0.7; 0.8 0.3] qui agit sur le premier qubit?**"
   ]
  },
  {
   "cell_type": "code",
   "execution_count": 13,
   "id": "47393e07-34b4-4b4b-ba6e-0c14d041b638",
   "metadata": {},
   "outputs": [
    {
     "data": {
      "text/plain": [
       "2×2 Matrix{Float64}:\n",
       " 0.2  0.7\n",
       " 0.8  0.3"
      ]
     },
     "execution_count": 13,
     "metadata": {},
     "output_type": "execute_result"
    }
   ],
   "source": [
    "M = [0.2 0.7; 0.8 0.3]"
   ]
  },
  {
   "cell_type": "markdown",
   "id": "fee25b70-b771-48f5-b3c0-ea389af6142e",
   "metadata": {},
   "source": [
    "**Pour 3 qubits, quel est la matrice 8x8 d'un opérateur M=[0.9 0.4; 0.1 0.6] qui agit sur le deuxième qubit?**"
   ]
  },
  {
   "cell_type": "code",
   "execution_count": 14,
   "id": "a7a9c9cd-eef6-4516-b54e-ae1afb9bf10c",
   "metadata": {},
   "outputs": [
    {
     "data": {
      "text/plain": [
       "2×2 Matrix{Float64}:\n",
       " 0.9  0.4\n",
       " 0.1  0.6"
      ]
     },
     "execution_count": 14,
     "metadata": {},
     "output_type": "execute_result"
    }
   ],
   "source": [
    "M = [0.9 0.4; 0.1 0.6]"
   ]
  },
  {
   "cell_type": "markdown",
   "id": "71894878-229f-492e-9f72-153168a20d4c",
   "metadata": {},
   "source": [
    "## Opérateurs à plusieurs qubits"
   ]
  },
  {
   "cell_type": "code",
   "execution_count": 15,
   "id": "174f1307-e2cd-4c4f-9ff0-810c9482ada0",
   "metadata": {},
   "outputs": [
    {
     "data": {
      "text/plain": [
       "4×4 Matrix{Float64}:\n",
       " 0.05  0.0   0.7  0.6\n",
       " 0.45  0.5   0.2  0.25\n",
       " 0.2   0.35  0.1  0.0\n",
       " 0.3   0.15  0.0  0.15"
      ]
     },
     "execution_count": 15,
     "metadata": {},
     "output_type": "execute_result"
    }
   ],
   "source": [
    "M = [0.05 0 0.7 0.6; 0.45 0.5 0.2 0.25; 0.2 0.35 0.1 0; 0.3 0.15 0 0.15]"
   ]
  },
  {
   "cell_type": "markdown",
   "id": "627f15a6-8cdb-4d2c-b896-24234b0ca5c1",
   "metadata": {},
   "source": [
    "C'est un matrice 4x4 qui s'applique à 2 qubits."
   ]
  },
  {
   "cell_type": "markdown",
   "id": "a27ea958-d65b-410d-8e68-4ea0e2c872f4",
   "metadata": {},
   "source": [
    "**Si nous avons 3 qubits, quel est l'opérateur si il est appliqué au premier et au deuxième qubit?**"
   ]
  },
  {
   "cell_type": "markdown",
   "id": "be3ce6ee-a14b-4d07-958b-61efc26adc38",
   "metadata": {},
   "source": [
    "**Quel est l'opérateur si il est appliqué au deuxième et troisième qubit?**"
   ]
  },
  {
   "cell_type": "markdown",
   "id": "933b6fda-8899-4622-9d83-0a6342a88cdb",
   "metadata": {},
   "source": [
    "**Quel est l'opérateur si il est appliqué au premier et troisième qubit?**"
   ]
  },
  {
   "cell_type": "code",
   "execution_count": null,
   "id": "e145c13e-8a38-4d89-8c47-856035490960",
   "metadata": {},
   "outputs": [],
   "source": []
  }
 ],
 "metadata": {
  "kernelspec": {
   "display_name": "Julia 1.8.1",
   "language": "julia",
   "name": "julia-1.8"
  },
  "language_info": {
   "file_extension": ".jl",
   "mimetype": "application/julia",
   "name": "julia",
   "version": "1.8.1"
  }
 },
 "nbformat": 4,
 "nbformat_minor": 5
}
