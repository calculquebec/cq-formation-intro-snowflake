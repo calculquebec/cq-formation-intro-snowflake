{
 "cells": [
  {
   "cell_type": "markdown",
   "id": "7a5b1a7a-15c2-4833-a061-4833f69e62b5",
   "metadata": {},
   "source": [
    "# Références\n",
    "- Basé sur https://carpentries-incubator.github.io/julia-novice/\n",
    "- https://docs.julialang.org/en/v1/\n",
    "\n",
    "## Livre sur Julia francophone: \n",
    "https://github.com/aquarelleX332/ThinkJuliaFR.jl"
   ]
  },
  {
   "cell_type": "markdown",
   "id": "6414fd77-3e03-49a7-9f9f-14d097a22554",
   "metadata": {},
   "source": [
    "# Variables"
   ]
  },
  {
   "cell_type": "code",
   "execution_count": null,
   "id": "42df1cb7-3763-4432-bcbe-4cc5e4f3f1eb",
   "metadata": {},
   "outputs": [],
   "source": [
    "# Pour écrire des commentaires"
   ]
  },
  {
   "cell_type": "code",
   "execution_count": null,
   "id": "24bdd4eb-03cc-4e7a-8c16-515dc3543a54",
   "metadata": {},
   "outputs": [],
   "source": [
    "# Maths directement dans la cellule\n",
    "1 + 4 * 7.3"
   ]
  },
  {
   "cell_type": "code",
   "execution_count": null,
   "id": "9172f76c-bdda-4344-b9f0-c72f9a08006c",
   "metadata": {},
   "outputs": [],
   "source": [
    "# Variables est un nom qu'on assigne à une valeur ou un ensemble de valeurs"
   ]
  },
  {
   "cell_type": "code",
   "execution_count": null,
   "id": "35dacf7b-b5a8-4989-aa4e-bd8ac8b79ff7",
   "metadata": {},
   "outputs": [],
   "source": [
    "distance = 1 + 4 * 7.3\n",
    "print(\"La distance est $distance\") # Le signe du dollar appel la variable à l'intérieure d'une expression alphanumérique"
   ]
  },
  {
   "cell_type": "code",
   "execution_count": null,
   "id": "7ac58217-4b49-41ca-b5b7-e104e139a0fe",
   "metadata": {},
   "outputs": [],
   "source": [
    "distance = 45.3\n",
    "print(\"La distance est $distance\")"
   ]
  },
  {
   "cell_type": "code",
   "execution_count": null,
   "id": "d374c431-4437-4d28-9e0d-aa9b53aa7155",
   "metadata": {},
   "outputs": [],
   "source": [
    "#Types de variables\n",
    "a = \"Bonjour\"\n",
    "j = 1 # nombres entiers\n",
    "x = 1.0 #Nombres réels - double précision (Float64)\n",
    "x = 1. \n",
    "i = 1+2im #Nombres complexes"
   ]
  },
  {
   "cell_type": "markdown",
   "id": "7d04c1d7-32d6-4241-9e28-7cce79ef22d2",
   "metadata": {},
   "source": [
    "## Opérations sur les nombres complexes (ou réels)"
   ]
  },
  {
   "cell_type": "code",
   "execution_count": null,
   "id": "ce0e4d07-ca08-41a0-9006-cdf6ddff25e3",
   "metadata": {},
   "outputs": [],
   "source": [
    "z = 1 + 2im\n",
    "r = real(z)\n",
    "i = imag(z)\n",
    "print(\"Partie réelle = $r, Partie imaginaire = $i\")"
   ]
  },
  {
   "cell_type": "code",
   "execution_count": null,
   "id": "5e21da9b-5c86-4f8a-9855-d5cf73fb566a",
   "metadata": {},
   "outputs": [],
   "source": [
    "conj(z) #conjugué"
   ]
  },
  {
   "cell_type": "code",
   "execution_count": null,
   "id": "0dbd9ca7-9e62-4a5e-ad05-861bae660f65",
   "metadata": {},
   "outputs": [],
   "source": [
    "abs(z) #valeur absolue"
   ]
  },
  {
   "cell_type": "code",
   "execution_count": null,
   "id": "46075f41-4913-43bc-9643-0f5c36417e82",
   "metadata": {},
   "outputs": [],
   "source": [
    "abs2(z) #valeur absolue au carré"
   ]
  },
  {
   "cell_type": "code",
   "execution_count": null,
   "id": "b5afee24-184d-44a4-9616-4d2ddc009068",
   "metadata": {},
   "outputs": [],
   "source": [
    "pangle = angle(z) #angle de phase en radians\n",
    "print(pangle)"
   ]
  },
  {
   "cell_type": "code",
   "execution_count": null,
   "id": "de2be96d-456d-4714-9e25-9293ed2a92d1",
   "metadata": {},
   "outputs": [],
   "source": [
    "degree = pangle*180/pi\n",
    "print(degree)"
   ]
  },
  {
   "cell_type": "code",
   "execution_count": null,
   "id": "39900245-5f11-4245-b623-df128a3ac5e5",
   "metadata": {},
   "outputs": [],
   "source": [
    "sqrt(z)"
   ]
  },
  {
   "cell_type": "code",
   "execution_count": null,
   "id": "3e3f5889-87b8-440e-b379-1c2f751fbb9b",
   "metadata": {},
   "outputs": [],
   "source": [
    "cos(z)"
   ]
  },
  {
   "cell_type": "code",
   "execution_count": null,
   "id": "b1ab3283-dcd5-4eeb-9c01-831785867573",
   "metadata": {},
   "outputs": [],
   "source": [
    "sqrt(-1)"
   ]
  },
  {
   "cell_type": "code",
   "execution_count": null,
   "id": "36119772-34ed-4c1c-878e-e99f4e6463e9",
   "metadata": {},
   "outputs": [],
   "source": [
    "sqrt(-1 + 0im)"
   ]
  },
  {
   "cell_type": "markdown",
   "id": "c20eb24e-0896-4a4b-b3b4-54886f57392d",
   "metadata": {},
   "source": [
    "# Unicode\n",
    "https://docs.julialang.org/en/v1/manual/unicode-input/ "
   ]
  },
  {
   "cell_type": "code",
   "execution_count": null,
   "id": "d95bc36b-d9cc-4214-839a-2b998bd377d9",
   "metadata": {},
   "outputs": [],
   "source": [
    "# Caractère Unicode pour lettres grecques (barre oblique\\nom + tab)\n",
    "α = 1."
   ]
  },
  {
   "cell_type": "code",
   "execution_count": null,
   "id": "c016e175-5362-4554-b7ba-2406d4bcc884",
   "metadata": {},
   "outputs": [],
   "source": [
    "ψ = \"Fonction d'onde\""
   ]
  },
  {
   "cell_type": "markdown",
   "id": "c6c9203d-a88c-4764-824f-a9ced18cc2cb",
   "metadata": {},
   "source": [
    "# Aide"
   ]
  },
  {
   "cell_type": "code",
   "execution_count": null,
   "id": "89d2d7f6-65b9-4388-92a4-d9f547da634b",
   "metadata": {},
   "outputs": [],
   "source": [
    "#Point d'interrogation"
   ]
  },
  {
   "cell_type": "code",
   "execution_count": null,
   "id": "b61871cb-135b-4842-bd2d-cf8c875e9a14",
   "metadata": {},
   "outputs": [],
   "source": [
    "?"
   ]
  },
  {
   "cell_type": "code",
   "execution_count": null,
   "id": "80007931-4018-473b-8d89-59a867435c56",
   "metadata": {},
   "outputs": [],
   "source": [
    "#Pour chercher un symbole, copier et coller le symbole à partir de votre ordinateur ou navigateur\n",
    "?∞"
   ]
  },
  {
   "cell_type": "markdown",
   "id": "4b45d645-ac0c-4704-aeac-396d30dc621f",
   "metadata": {},
   "source": [
    "# Fonctionalités supplémentaires: collection de paquets (packages)"
   ]
  },
  {
   "cell_type": "code",
   "execution_count": null,
   "id": "27584075-c767-45fd-880a-e3a3bc1c66b2",
   "metadata": {},
   "outputs": [],
   "source": [
    "# Crochet droit ] version 1.9 de Julia"
   ]
  },
  {
   "cell_type": "code",
   "execution_count": null,
   "id": "44cffa3b-811d-4ff1-95fb-aabe1fc8ad87",
   "metadata": {},
   "outputs": [],
   "source": [
    "]"
   ]
  },
  {
   "cell_type": "code",
   "execution_count": null,
   "id": "5dd859e4-e816-478f-a854-be41b2dcc9ba",
   "metadata": {},
   "outputs": [],
   "source": [
    "import Pkg"
   ]
  },
  {
   "cell_type": "code",
   "execution_count": null,
   "id": "ba296dd6-c1c7-4a3a-aa9f-0ef617b8fcc8",
   "metadata": {},
   "outputs": [],
   "source": [
    "Pkg.add(url=\"https://github.com/anyonlabs/Snowflake.jl\", rev=\"main\")"
   ]
  },
  {
   "cell_type": "code",
   "execution_count": null,
   "id": "46a827c3-5099-4e79-8348-9cd0bab0dd77",
   "metadata": {},
   "outputs": [],
   "source": [
    "Pkg.add(url=\"https://github.com/anyonlabs/SnowflakePlots.jl.git\")"
   ]
  },
  {
   "cell_type": "code",
   "execution_count": null,
   "id": "40168c88-a3dc-4038-85da-5e407de27ab9",
   "metadata": {},
   "outputs": [],
   "source": [
    "using Snowflake"
   ]
  },
  {
   "cell_type": "code",
   "execution_count": null,
   "id": "752de578-5398-493a-b4f4-e510432a3d54",
   "metadata": {},
   "outputs": [],
   "source": [
    "using SnowflakePlots"
   ]
  },
  {
   "cell_type": "code",
   "execution_count": null,
   "id": "c7cd13a0-86ed-4381-8789-3067a936d9fa",
   "metadata": {},
   "outputs": [],
   "source": []
  }
 ],
 "metadata": {
  "kernelspec": {
   "display_name": "Julia 1.8.1",
   "language": "julia",
   "name": "julia-1.8"
  },
  "language_info": {
   "file_extension": ".jl",
   "mimetype": "application/julia",
   "name": "julia",
   "version": "1.8.1"
  }
 },
 "nbformat": 4,
 "nbformat_minor": 5
}
