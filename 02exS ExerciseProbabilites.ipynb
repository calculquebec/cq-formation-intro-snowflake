{
 "cells": [
  {
   "cell_type": "markdown",
   "id": "1bf9390b-7c6c-44c1-9d5a-e53c4e55d580",
   "metadata": {},
   "source": [
    "# Exercise sur des bits probabilistes"
   ]
  },
  {
   "cell_type": "markdown",
   "id": "1e707d41-8046-4c33-9760-0fdddaecc0cc",
   "metadata": {},
   "source": [
    "**Nous avons 2 bits avec les probabilités:**"
   ]
  },
  {
   "cell_type": "code",
   "execution_count": 9,
   "id": "82e76a78-a272-4011-936a-b355f8ef3539",
   "metadata": {},
   "outputs": [
    {
     "data": {
      "text/plain": [
       "2-element Vector{Float64}:\n",
       " 0.2\n",
       " 0.8"
      ]
     },
     "execution_count": 9,
     "metadata": {},
     "output_type": "execute_result"
    }
   ],
   "source": [
    "vecteur_a=[0.2,0.8]"
   ]
  },
  {
   "cell_type": "code",
   "execution_count": 10,
   "id": "83826c44-5442-4409-b1b8-2926a9d55d2b",
   "metadata": {},
   "outputs": [
    {
     "data": {
      "text/plain": [
       "2-element Vector{Float64}:\n",
       " 0.6\n",
       " 0.4"
      ]
     },
     "execution_count": 10,
     "metadata": {},
     "output_type": "execute_result"
    }
   ],
   "source": [
    "vecteur_b=[0.6,0.4]"
   ]
  },
  {
   "cell_type": "markdown",
   "id": "9adf4334-2be1-4b10-b182-0c83f1579e38",
   "metadata": {},
   "source": [
    "**Si nous combinons les 2 vecteurs, quels sont les probabilités pour chacun des états?**\n",
    "(La base vectoriel est [0] = [1,0] et [1] = [0,1] et les états superposés sont [00], [01], [10], [00])"
   ]
  },
  {
   "cell_type": "markdown",
   "id": "d8d45d66-3540-471c-a229-529f164d2da6",
   "metadata": {},
   "source": [
    "## Première tâche\n",
    "Comment représenter le vecteur_a et le vecteur_b en termes de [0] et [1]?\n",
    "\n",
    "(Le produit de Kronecker est distributif)"
   ]
  },
  {
   "cell_type": "markdown",
   "id": "78c4cce9-ffad-4930-ba61-37fdcd87bf44",
   "metadata": {},
   "source": [
    "<h3>Solution</h3>\n",
    "\n",
    "$ \\big( 0.2 [0] + 0.8 [1] \\big) \\otimes  \\big( 0.6 [0] + 0.4 [1] \\big) $"
   ]
  },
  {
   "cell_type": "markdown",
   "id": "7eb9c2c1-d181-4cc9-970b-38e4422f924d",
   "metadata": {},
   "source": [
    "## Deuxième tâche\n",
    "Quels sont les vecteurs représentant les états [00], [01], [10], [00]?"
   ]
  },
  {
   "cell_type": "markdown",
   "id": "ad77377c-ec62-49f5-ac13-689333c240e6",
   "metadata": {},
   "source": [
    "### Solution"
   ]
  },
  {
   "cell_type": "code",
   "execution_count": 3,
   "id": "5392ed0e-e5ca-436a-a837-7dd216a251d3",
   "metadata": {},
   "outputs": [
    {
     "data": {
      "text/plain": [
       "2-element Vector{Int64}:\n",
       " 0\n",
       " 1"
      ]
     },
     "execution_count": 3,
     "metadata": {},
     "output_type": "execute_result"
    }
   ],
   "source": [
    "vecteur_0=[1,0]\n",
    "vecteur_1=[0,1]"
   ]
  },
  {
   "cell_type": "code",
   "execution_count": 4,
   "id": "5eb180bf-2765-4c08-829b-9fd187494214",
   "metadata": {},
   "outputs": [
    {
     "data": {
      "text/plain": [
       "4-element Vector{Int64}:\n",
       " 1\n",
       " 0\n",
       " 0\n",
       " 0"
      ]
     },
     "execution_count": 4,
     "metadata": {},
     "output_type": "execute_result"
    }
   ],
   "source": [
    "vecteur_00=kron(vecteur_0,vecteur_0)"
   ]
  },
  {
   "cell_type": "code",
   "execution_count": 5,
   "id": "0c575a65-aed9-4191-8574-fc1c8348f30f",
   "metadata": {},
   "outputs": [
    {
     "data": {
      "text/plain": [
       "4-element Vector{Int64}:\n",
       " 0\n",
       " 1\n",
       " 0\n",
       " 0"
      ]
     },
     "execution_count": 5,
     "metadata": {},
     "output_type": "execute_result"
    }
   ],
   "source": [
    "vecteur_01=kron(vecteur_0,vecteur_1)"
   ]
  },
  {
   "cell_type": "code",
   "execution_count": 6,
   "id": "d0b75758-a340-4202-96da-28efeb7b3693",
   "metadata": {},
   "outputs": [
    {
     "data": {
      "text/plain": [
       "4-element Vector{Int64}:\n",
       " 0\n",
       " 0\n",
       " 1\n",
       " 0"
      ]
     },
     "execution_count": 6,
     "metadata": {},
     "output_type": "execute_result"
    }
   ],
   "source": [
    "vecteur_10=kron(vecteur_1,vecteur_0)"
   ]
  },
  {
   "cell_type": "code",
   "execution_count": 7,
   "id": "17659daf-47da-4f3d-8413-c82c5d2ef028",
   "metadata": {},
   "outputs": [
    {
     "data": {
      "text/plain": [
       "4-element Vector{Int64}:\n",
       " 0\n",
       " 0\n",
       " 0\n",
       " 1"
      ]
     },
     "execution_count": 7,
     "metadata": {},
     "output_type": "execute_result"
    }
   ],
   "source": [
    "vecteur_11=kron(vecteur_1,vecteur_1)"
   ]
  },
  {
   "cell_type": "markdown",
   "id": "4c7de9cb-dbb1-4de6-9cc8-5f9c20654c3e",
   "metadata": {},
   "source": [
    "## Troisième tâche\n",
    "Quels sont les probabilités d'être dans chacun des états?"
   ]
  },
  {
   "cell_type": "code",
   "execution_count": 11,
   "id": "c13da8df-cacb-4e1b-9d64-c7c952863a1d",
   "metadata": {},
   "outputs": [
    {
     "data": {
      "text/plain": [
       "4-element Vector{Float64}:\n",
       " 0.12\n",
       " 0.08000000000000002\n",
       " 0.48\n",
       " 0.32000000000000006"
      ]
     },
     "execution_count": 11,
     "metadata": {},
     "output_type": "execute_result"
    }
   ],
   "source": [
    "kron(vecteur_a,vecteur_b)"
   ]
  }
 ],
 "metadata": {
  "kernelspec": {
   "display_name": "Julia 1.8.1",
   "language": "julia",
   "name": "julia-1.8"
  },
  "language_info": {
   "file_extension": ".jl",
   "mimetype": "application/julia",
   "name": "julia",
   "version": "1.8.1"
  }
 },
 "nbformat": 4,
 "nbformat_minor": 5
}
